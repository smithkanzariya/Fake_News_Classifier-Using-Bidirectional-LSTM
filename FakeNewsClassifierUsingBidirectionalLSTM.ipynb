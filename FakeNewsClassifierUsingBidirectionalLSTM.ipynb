{
  "nbformat": 4,
  "nbformat_minor": 0,
  "metadata": {
    "colab": {
      "name": "FakeNewsClassifierUsingBidirectionalLSTM.ipynb",
      "provenance": [],
      "collapsed_sections": [],
      "mount_file_id": "1V0sm63yzJTlleIiQpsnH4whgjyorYi0Y",
      "authorship_tag": "ABX9TyMEpUnc5UNcGSUTuyDtxUh4",
      "include_colab_link": true
    },
    "kernelspec": {
      "name": "python3",
      "display_name": "Python 3"
    }
  },
  "cells": [
    {
      "cell_type": "markdown",
      "metadata": {
        "id": "view-in-github",
        "colab_type": "text"
      },
      "source": [
        "<a href=\"https://colab.research.google.com/github/smithkanzariya/Fake_News_Classifier-Using-Bidirectional-LSTM/blob/main/FakeNewsClassifierUsingBidirectionalLSTM.ipynb\" target=\"_parent\"><img src=\"https://colab.research.google.com/assets/colab-badge.svg\" alt=\"Open In Colab\"/></a>"
      ]
    },
    {
      "cell_type": "code",
      "source": [
        "from google.colab import drive\n",
        "drive.mount('/content/drive')"
      ],
      "metadata": {
        "colab": {
          "base_uri": "https://localhost:8080/"
        },
        "id": "fdVXDe04ODoy",
        "outputId": "f1062750-4ff4-4b93-fd9c-12f06c28eb37"
      },
      "execution_count": 1,
      "outputs": [
        {
          "output_type": "stream",
          "name": "stdout",
          "text": [
            "Drive already mounted at /content/drive; to attempt to forcibly remount, call drive.mount(\"/content/drive\", force_remount=True).\n"
          ]
        }
      ]
    },
    {
      "cell_type": "code",
      "metadata": {
        "id": "DlhmIqIqFAd1",
        "outputId": "499c4e5f-9d35-4f1a-814d-38a55aaa34fc",
        "colab": {
          "base_uri": "https://localhost:8080/",
          "height": 363
        }
      },
      "source": [
        "#Loading Dataset\n",
        "import pandas as pd\n",
        "Dataset  = pd.read_csv(\"/content/drive/MyDrive/News/train.csv\")\n",
        "Dataset.head(10)"
      ],
      "execution_count": 2,
      "outputs": [
        {
          "output_type": "execute_result",
          "data": {
            "text/plain": [
              "   id                                              title  \\\n",
              "0   0  House Dem Aide: We Didn’t Even See Comey’s Let...   \n",
              "1   1  FLYNN: Hillary Clinton, Big Woman on Campus - ...   \n",
              "2   2                  Why the Truth Might Get You Fired   \n",
              "3   3  15 Civilians Killed In Single US Airstrike Hav...   \n",
              "4   4  Iranian woman jailed for fictional unpublished...   \n",
              "5   5  Jackie Mason: Hollywood Would Love Trump if He...   \n",
              "6   6  Life: Life Of Luxury: Elton John’s 6 Favorite ...   \n",
              "7   7  Benoît Hamon Wins French Socialist Party’s Pre...   \n",
              "8   8  Excerpts From a Draft Script for Donald Trump’...   \n",
              "9   9  A Back-Channel Plan for Ukraine and Russia, Co...   \n",
              "\n",
              "                         author  \\\n",
              "0                 Darrell Lucus   \n",
              "1               Daniel J. Flynn   \n",
              "2            Consortiumnews.com   \n",
              "3               Jessica Purkiss   \n",
              "4                Howard Portnoy   \n",
              "5               Daniel Nussbaum   \n",
              "6                           NaN   \n",
              "7               Alissa J. Rubin   \n",
              "8                           NaN   \n",
              "9  Megan Twohey and Scott Shane   \n",
              "\n",
              "                                                text  label  \n",
              "0  House Dem Aide: We Didn’t Even See Comey’s Let...      1  \n",
              "1  Ever get the feeling your life circles the rou...      0  \n",
              "2  Why the Truth Might Get You Fired October 29, ...      1  \n",
              "3  Videos 15 Civilians Killed In Single US Airstr...      1  \n",
              "4  Print \\nAn Iranian woman has been sentenced to...      1  \n",
              "5  In these trying times, Jackie Mason is the Voi...      0  \n",
              "6  Ever wonder how Britain’s most iconic pop pian...      1  \n",
              "7  PARIS  —   France chose an idealistic, traditi...      0  \n",
              "8  Donald J. Trump is scheduled to make a highly ...      0  \n",
              "9  A week before Michael T. Flynn resigned as nat...      0  "
            ],
            "text/html": [
              "\n",
              "  <div id=\"df-78c25ed8-6285-4abf-9d52-755892c6af2a\">\n",
              "    <div class=\"colab-df-container\">\n",
              "      <div>\n",
              "<style scoped>\n",
              "    .dataframe tbody tr th:only-of-type {\n",
              "        vertical-align: middle;\n",
              "    }\n",
              "\n",
              "    .dataframe tbody tr th {\n",
              "        vertical-align: top;\n",
              "    }\n",
              "\n",
              "    .dataframe thead th {\n",
              "        text-align: right;\n",
              "    }\n",
              "</style>\n",
              "<table border=\"1\" class=\"dataframe\">\n",
              "  <thead>\n",
              "    <tr style=\"text-align: right;\">\n",
              "      <th></th>\n",
              "      <th>id</th>\n",
              "      <th>title</th>\n",
              "      <th>author</th>\n",
              "      <th>text</th>\n",
              "      <th>label</th>\n",
              "    </tr>\n",
              "  </thead>\n",
              "  <tbody>\n",
              "    <tr>\n",
              "      <th>0</th>\n",
              "      <td>0</td>\n",
              "      <td>House Dem Aide: We Didn’t Even See Comey’s Let...</td>\n",
              "      <td>Darrell Lucus</td>\n",
              "      <td>House Dem Aide: We Didn’t Even See Comey’s Let...</td>\n",
              "      <td>1</td>\n",
              "    </tr>\n",
              "    <tr>\n",
              "      <th>1</th>\n",
              "      <td>1</td>\n",
              "      <td>FLYNN: Hillary Clinton, Big Woman on Campus - ...</td>\n",
              "      <td>Daniel J. Flynn</td>\n",
              "      <td>Ever get the feeling your life circles the rou...</td>\n",
              "      <td>0</td>\n",
              "    </tr>\n",
              "    <tr>\n",
              "      <th>2</th>\n",
              "      <td>2</td>\n",
              "      <td>Why the Truth Might Get You Fired</td>\n",
              "      <td>Consortiumnews.com</td>\n",
              "      <td>Why the Truth Might Get You Fired October 29, ...</td>\n",
              "      <td>1</td>\n",
              "    </tr>\n",
              "    <tr>\n",
              "      <th>3</th>\n",
              "      <td>3</td>\n",
              "      <td>15 Civilians Killed In Single US Airstrike Hav...</td>\n",
              "      <td>Jessica Purkiss</td>\n",
              "      <td>Videos 15 Civilians Killed In Single US Airstr...</td>\n",
              "      <td>1</td>\n",
              "    </tr>\n",
              "    <tr>\n",
              "      <th>4</th>\n",
              "      <td>4</td>\n",
              "      <td>Iranian woman jailed for fictional unpublished...</td>\n",
              "      <td>Howard Portnoy</td>\n",
              "      <td>Print \\nAn Iranian woman has been sentenced to...</td>\n",
              "      <td>1</td>\n",
              "    </tr>\n",
              "    <tr>\n",
              "      <th>5</th>\n",
              "      <td>5</td>\n",
              "      <td>Jackie Mason: Hollywood Would Love Trump if He...</td>\n",
              "      <td>Daniel Nussbaum</td>\n",
              "      <td>In these trying times, Jackie Mason is the Voi...</td>\n",
              "      <td>0</td>\n",
              "    </tr>\n",
              "    <tr>\n",
              "      <th>6</th>\n",
              "      <td>6</td>\n",
              "      <td>Life: Life Of Luxury: Elton John’s 6 Favorite ...</td>\n",
              "      <td>NaN</td>\n",
              "      <td>Ever wonder how Britain’s most iconic pop pian...</td>\n",
              "      <td>1</td>\n",
              "    </tr>\n",
              "    <tr>\n",
              "      <th>7</th>\n",
              "      <td>7</td>\n",
              "      <td>Benoît Hamon Wins French Socialist Party’s Pre...</td>\n",
              "      <td>Alissa J. Rubin</td>\n",
              "      <td>PARIS  —   France chose an idealistic, traditi...</td>\n",
              "      <td>0</td>\n",
              "    </tr>\n",
              "    <tr>\n",
              "      <th>8</th>\n",
              "      <td>8</td>\n",
              "      <td>Excerpts From a Draft Script for Donald Trump’...</td>\n",
              "      <td>NaN</td>\n",
              "      <td>Donald J. Trump is scheduled to make a highly ...</td>\n",
              "      <td>0</td>\n",
              "    </tr>\n",
              "    <tr>\n",
              "      <th>9</th>\n",
              "      <td>9</td>\n",
              "      <td>A Back-Channel Plan for Ukraine and Russia, Co...</td>\n",
              "      <td>Megan Twohey and Scott Shane</td>\n",
              "      <td>A week before Michael T. Flynn resigned as nat...</td>\n",
              "      <td>0</td>\n",
              "    </tr>\n",
              "  </tbody>\n",
              "</table>\n",
              "</div>\n",
              "      <button class=\"colab-df-convert\" onclick=\"convertToInteractive('df-78c25ed8-6285-4abf-9d52-755892c6af2a')\"\n",
              "              title=\"Convert this dataframe to an interactive table.\"\n",
              "              style=\"display:none;\">\n",
              "        \n",
              "  <svg xmlns=\"http://www.w3.org/2000/svg\" height=\"24px\"viewBox=\"0 0 24 24\"\n",
              "       width=\"24px\">\n",
              "    <path d=\"M0 0h24v24H0V0z\" fill=\"none\"/>\n",
              "    <path d=\"M18.56 5.44l.94 2.06.94-2.06 2.06-.94-2.06-.94-.94-2.06-.94 2.06-2.06.94zm-11 1L8.5 8.5l.94-2.06 2.06-.94-2.06-.94L8.5 2.5l-.94 2.06-2.06.94zm10 10l.94 2.06.94-2.06 2.06-.94-2.06-.94-.94-2.06-.94 2.06-2.06.94z\"/><path d=\"M17.41 7.96l-1.37-1.37c-.4-.4-.92-.59-1.43-.59-.52 0-1.04.2-1.43.59L10.3 9.45l-7.72 7.72c-.78.78-.78 2.05 0 2.83L4 21.41c.39.39.9.59 1.41.59.51 0 1.02-.2 1.41-.59l7.78-7.78 2.81-2.81c.8-.78.8-2.07 0-2.86zM5.41 20L4 18.59l7.72-7.72 1.47 1.35L5.41 20z\"/>\n",
              "  </svg>\n",
              "      </button>\n",
              "      \n",
              "  <style>\n",
              "    .colab-df-container {\n",
              "      display:flex;\n",
              "      flex-wrap:wrap;\n",
              "      gap: 12px;\n",
              "    }\n",
              "\n",
              "    .colab-df-convert {\n",
              "      background-color: #E8F0FE;\n",
              "      border: none;\n",
              "      border-radius: 50%;\n",
              "      cursor: pointer;\n",
              "      display: none;\n",
              "      fill: #1967D2;\n",
              "      height: 32px;\n",
              "      padding: 0 0 0 0;\n",
              "      width: 32px;\n",
              "    }\n",
              "\n",
              "    .colab-df-convert:hover {\n",
              "      background-color: #E2EBFA;\n",
              "      box-shadow: 0px 1px 2px rgba(60, 64, 67, 0.3), 0px 1px 3px 1px rgba(60, 64, 67, 0.15);\n",
              "      fill: #174EA6;\n",
              "    }\n",
              "\n",
              "    [theme=dark] .colab-df-convert {\n",
              "      background-color: #3B4455;\n",
              "      fill: #D2E3FC;\n",
              "    }\n",
              "\n",
              "    [theme=dark] .colab-df-convert:hover {\n",
              "      background-color: #434B5C;\n",
              "      box-shadow: 0px 1px 3px 1px rgba(0, 0, 0, 0.15);\n",
              "      filter: drop-shadow(0px 1px 2px rgba(0, 0, 0, 0.3));\n",
              "      fill: #FFFFFF;\n",
              "    }\n",
              "  </style>\n",
              "\n",
              "      <script>\n",
              "        const buttonEl =\n",
              "          document.querySelector('#df-78c25ed8-6285-4abf-9d52-755892c6af2a button.colab-df-convert');\n",
              "        buttonEl.style.display =\n",
              "          google.colab.kernel.accessAllowed ? 'block' : 'none';\n",
              "\n",
              "        async function convertToInteractive(key) {\n",
              "          const element = document.querySelector('#df-78c25ed8-6285-4abf-9d52-755892c6af2a');\n",
              "          const dataTable =\n",
              "            await google.colab.kernel.invokeFunction('convertToInteractive',\n",
              "                                                     [key], {});\n",
              "          if (!dataTable) return;\n",
              "\n",
              "          const docLinkHtml = 'Like what you see? Visit the ' +\n",
              "            '<a target=\"_blank\" href=https://colab.research.google.com/notebooks/data_table.ipynb>data table notebook</a>'\n",
              "            + ' to learn more about interactive tables.';\n",
              "          element.innerHTML = '';\n",
              "          dataTable['output_type'] = 'display_data';\n",
              "          await google.colab.output.renderOutput(dataTable, element);\n",
              "          const docLink = document.createElement('div');\n",
              "          docLink.innerHTML = docLinkHtml;\n",
              "          element.appendChild(docLink);\n",
              "        }\n",
              "      </script>\n",
              "    </div>\n",
              "  </div>\n",
              "  "
            ]
          },
          "metadata": {},
          "execution_count": 2
        }
      ]
    },
    {
      "cell_type": "markdown",
      "source": [
        "Dealing with Nan Values"
      ],
      "metadata": {
        "id": "_MWB6D6LPE12"
      }
    },
    {
      "cell_type": "code",
      "source": [
        "Dataset.shape"
      ],
      "metadata": {
        "colab": {
          "base_uri": "https://localhost:8080/"
        },
        "id": "z7sdQzRbOqlb",
        "outputId": "ecfdba9b-fd41-4289-8bcc-8a5e34917335"
      },
      "execution_count": 3,
      "outputs": [
        {
          "output_type": "execute_result",
          "data": {
            "text/plain": [
              "(20800, 5)"
            ]
          },
          "metadata": {},
          "execution_count": 3
        }
      ]
    },
    {
      "cell_type": "code",
      "source": [
        "Dataset.isnull().sum()"
      ],
      "metadata": {
        "colab": {
          "base_uri": "https://localhost:8080/"
        },
        "id": "72mqe1qiOf57",
        "outputId": "2ef753e8-c030-4fd4-99af-e8f6e0e1b44e"
      },
      "execution_count": 4,
      "outputs": [
        {
          "output_type": "execute_result",
          "data": {
            "text/plain": [
              "id           0\n",
              "title      558\n",
              "author    1957\n",
              "text        39\n",
              "label        0\n",
              "dtype: int64"
            ]
          },
          "metadata": {},
          "execution_count": 4
        }
      ]
    },
    {
      "cell_type": "code",
      "metadata": {
        "id": "VCVBK2KJ-t5O"
      },
      "source": [
        "#Drop NAN Values\n",
        "Dataset = Dataset.dropna()"
      ],
      "execution_count": 5,
      "outputs": []
    },
    {
      "cell_type": "code",
      "source": [
        "Dataset.isnull().sum()"
      ],
      "metadata": {
        "colab": {
          "base_uri": "https://localhost:8080/"
        },
        "id": "cQXf55gNO1vO",
        "outputId": "bb8f86ff-7f09-4c11-a260-bcdadfc8749b"
      },
      "execution_count": 6,
      "outputs": [
        {
          "output_type": "execute_result",
          "data": {
            "text/plain": [
              "id        0\n",
              "title     0\n",
              "author    0\n",
              "text      0\n",
              "label     0\n",
              "dtype: int64"
            ]
          },
          "metadata": {},
          "execution_count": 6
        }
      ]
    },
    {
      "cell_type": "code",
      "source": [
        "Dataset.shape"
      ],
      "metadata": {
        "colab": {
          "base_uri": "https://localhost:8080/"
        },
        "id": "j5rEyXDqPBUa",
        "outputId": "7fb6d119-75d1-4123-dc6a-2e15d45d64da"
      },
      "execution_count": 7,
      "outputs": [
        {
          "output_type": "execute_result",
          "data": {
            "text/plain": [
              "(18285, 5)"
            ]
          },
          "metadata": {},
          "execution_count": 7
        }
      ]
    },
    {
      "cell_type": "markdown",
      "source": [
        "Deviding the Dataset into Dependent and Independent"
      ],
      "metadata": {
        "id": "knqLNEU5PU_y"
      }
    },
    {
      "cell_type": "code",
      "metadata": {
        "id": "V5y6t7BmGM4i",
        "outputId": "63fc175c-b017-43a4-a3dd-0b124267632d",
        "colab": {
          "base_uri": "https://localhost:8080/"
        }
      },
      "source": [
        "#Get the independent Feature\n",
        "X = Dataset.drop(\"label\", axis = 1)\n",
        "X.shape\n",
        "Y = Dataset[\"label\"]\n",
        "Y.shape"
      ],
      "execution_count": 8,
      "outputs": [
        {
          "output_type": "execute_result",
          "data": {
            "text/plain": [
              "(18285,)"
            ]
          },
          "metadata": {},
          "execution_count": 8
        }
      ]
    },
    {
      "cell_type": "code",
      "metadata": {
        "id": "7uddmbadGNFR",
        "outputId": "263f3b8a-bc7c-4773-b110-e45cc7e27d43",
        "colab": {
          "base_uri": "https://localhost:8080/"
        }
      },
      "source": [
        "Y.value_counts()"
      ],
      "execution_count": 9,
      "outputs": [
        {
          "output_type": "execute_result",
          "data": {
            "text/plain": [
              "0    10361\n",
              "1     7924\n",
              "Name: label, dtype: int64"
            ]
          },
          "metadata": {},
          "execution_count": 9
        }
      ]
    },
    {
      "cell_type": "code",
      "metadata": {
        "id": "x48GKexaGNSh",
        "outputId": "7f472473-bcf5-4505-997a-c5eff56fd48f",
        "colab": {
          "base_uri": "https://localhost:8080/"
        }
      },
      "source": [
        "X.shape\n"
      ],
      "execution_count": 10,
      "outputs": [
        {
          "output_type": "execute_result",
          "data": {
            "text/plain": [
              "(18285, 4)"
            ]
          },
          "metadata": {},
          "execution_count": 10
        }
      ]
    },
    {
      "cell_type": "code",
      "metadata": {
        "id": "O-JmbaAGGNfJ"
      },
      "source": [
        "#Importing the tensorflow library\n",
        "import tensorflow as tf "
      ],
      "execution_count": 11,
      "outputs": []
    },
    {
      "cell_type": "code",
      "metadata": {
        "id": "ed4YapLzG7Dn",
        "outputId": "2789335c-5dca-4b6c-f63d-f4b299f4cdb7",
        "colab": {
          "base_uri": "https://localhost:8080/",
          "height": 36
        }
      },
      "source": [
        "tf.__version__"
      ],
      "execution_count": 12,
      "outputs": [
        {
          "output_type": "execute_result",
          "data": {
            "text/plain": [
              "'2.8.0'"
            ],
            "application/vnd.google.colaboratory.intrinsic+json": {
              "type": "string"
            }
          },
          "metadata": {},
          "execution_count": 12
        }
      ]
    },
    {
      "cell_type": "code",
      "metadata": {
        "id": "OdFNADpAG_RW"
      },
      "source": [
        "from tensorflow.keras.layers import Embedding\n",
        "from tensorflow.keras.preprocessing.sequence import pad_sequences\n",
        "from tensorflow.keras.models import Sequential\n",
        "from tensorflow.keras.preprocessing.text import one_hot\n",
        "from tensorflow.keras.layers import LSTM\n",
        "from tensorflow.keras.layers import Dense\n",
        "from tensorflow.keras.layers import  Bidirectional"
      ],
      "execution_count": 13,
      "outputs": []
    },
    {
      "cell_type": "code",
      "metadata": {
        "id": "-tFaFgLyG_q2"
      },
      "source": [
        "#Vocabulary size\n",
        "voc_size = 5000"
      ],
      "execution_count": 14,
      "outputs": []
    },
    {
      "cell_type": "markdown",
      "metadata": {
        "id": "jVhtLLM2HcE-"
      },
      "source": [
        "Onehot Representaion"
      ]
    },
    {
      "cell_type": "code",
      "metadata": {
        "id": "jyZLnsfMG_1n",
        "outputId": "785aa5cc-348c-4181-b9a5-5bda6df6465c",
        "colab": {
          "base_uri": "https://localhost:8080/",
          "height": 36
        }
      },
      "source": [
        "messages = X.copy()\n",
        "messages.reset_index(inplace = True)\n",
        "messages[\"title\"][1]"
      ],
      "execution_count": 15,
      "outputs": [
        {
          "output_type": "execute_result",
          "data": {
            "text/plain": [
              "'FLYNN: Hillary Clinton, Big Woman on Campus - Breitbart'"
            ],
            "application/vnd.google.colaboratory.intrinsic+json": {
              "type": "string"
            }
          },
          "metadata": {},
          "execution_count": 15
        }
      ]
    },
    {
      "cell_type": "code",
      "metadata": {
        "id": "cREXOUVeHABL"
      },
      "source": [
        "import nltk\n",
        "import re\n",
        "from nltk.corpus import stopwords"
      ],
      "execution_count": 16,
      "outputs": []
    },
    {
      "cell_type": "code",
      "metadata": {
        "id": "CGS3vHqxKKlh",
        "outputId": "1667323c-e908-4d3c-e915-8cc5b5d80f8c",
        "colab": {
          "base_uri": "https://localhost:8080/"
        }
      },
      "source": [
        "nltk.download('stopwords')"
      ],
      "execution_count": 17,
      "outputs": [
        {
          "output_type": "stream",
          "name": "stdout",
          "text": [
            "[nltk_data] Downloading package stopwords to /root/nltk_data...\n",
            "[nltk_data]   Unzipping corpora/stopwords.zip.\n"
          ]
        },
        {
          "output_type": "execute_result",
          "data": {
            "text/plain": [
              "True"
            ]
          },
          "metadata": {},
          "execution_count": 17
        }
      ]
    },
    {
      "cell_type": "code",
      "metadata": {
        "id": "0kugKlZlH4pq"
      },
      "source": [
        "#Data Preprocessing\n",
        "from nltk.stem.porter import PorterStemmer\n",
        "ps = PorterStemmer()\n",
        "corpus = []\n",
        "for i in range(0, len(messages)):\n",
        "  #print(i)\n",
        "  review = re.sub(\"[^a-zA-Z]\", \" \", messages[\"title\"][i])\n",
        "  review = review.lower()\n",
        "  review = review.split()\n",
        "  review = [ps.stem(word) for word in review if word not in stopwords.words(\"english\")]\n",
        "  review = \" \".join(review)\n",
        "  corpus.append(review)"
      ],
      "execution_count": 18,
      "outputs": []
    },
    {
      "cell_type": "code",
      "metadata": {
        "id": "pPGwezkDH40M",
        "outputId": "48d0429a-8f0b-45f8-b542-2346040b573e",
        "colab": {
          "base_uri": "https://localhost:8080/"
        }
      },
      "source": [
        "corpus[:100]"
      ],
      "execution_count": 19,
      "outputs": [
        {
          "output_type": "execute_result",
          "data": {
            "text/plain": [
              "['hous dem aid even see comey letter jason chaffetz tweet',\n",
              " 'flynn hillari clinton big woman campu breitbart',\n",
              " 'truth might get fire',\n",
              " 'civilian kill singl us airstrik identifi',\n",
              " 'iranian woman jail fiction unpublish stori woman stone death adulteri',\n",
              " 'jacki mason hollywood would love trump bomb north korea lack tran bathroom exclus video breitbart',\n",
              " 'beno hamon win french socialist parti presidenti nomin new york time',\n",
              " 'back channel plan ukrain russia courtesi trump associ new york time',\n",
              " 'obama organ action partner soro link indivis disrupt trump agenda',\n",
              " 'bbc comedi sketch real housew isi caus outrag',\n",
              " 'russian research discov secret nazi militari base treasur hunter arctic photo',\n",
              " 'us offici see link trump russia',\n",
              " 'ye paid govern troll social media blog forum websit',\n",
              " 'major leagu soccer argentin find home success new york time',\n",
              " 'well fargo chief abruptli step new york time',\n",
              " 'anonym donor pay million releas everyon arrest dakota access pipelin',\n",
              " 'fbi close hillari',\n",
              " 'chuck todd buzzfe donald trump polit favor breitbart',\n",
              " 'monica lewinski clinton sex scandal set american crime stori',\n",
              " 'rob reiner trump mental unstabl breitbart',\n",
              " 'abort pill order rise latin american nation zika alert new york time',\n",
              " 'nuke un histor treati ban nuclear weapon',\n",
              " 'exclus islam state support vow shake west follow manchest terrorist massacr breitbart',\n",
              " 'humili hillari tri hide camera caught min ralli',\n",
              " 'andrea tantaro fox news claim retali sex harass complaint new york time',\n",
              " 'hillari clinton becam hawk new york time',\n",
              " 'chuck todd buzzfe eic publish fake news breitbart',\n",
              " 'bori johnson brexit leader fumbl new york time',\n",
              " 'texa oil field rebound price lull job left behind new york time',\n",
              " 'bayer deal monsanto follow agribusi trend rais worri farmer new york time',\n",
              " 'russia move ban jehovah wit extremist new york time',\n",
              " 'still danger zone januari th',\n",
              " 'open thread u elect',\n",
              " 'democrat gutierrez blame chicago gun violenc nra breitbart',\n",
              " 'avoid peanut avoid allergi bad strategi new york time',\n",
              " 'mri show detail imag week unborn babi breitbart',\n",
              " 'best kind milk dairi',\n",
              " 'ryan locht drop speedo usa retail new york time',\n",
              " 'conserv urg session clean obama civil right divis breitbart',\n",
              " 'intern inquiri seal fate roger ail fox new york time',\n",
              " 'press tv debat duff lebanon hezbollah aoun presid video',\n",
              " 'samsung combust galaxi note unveil new smartphon new york time',\n",
              " 'poland vow referendum migrant quota amidst eu pressur public voic heard breitbart',\n",
              " 'spark inner revolut',\n",
              " 'studi half car crash involv driver distract cell phone breitbart',\n",
              " 'trump elect spark individu collect heal',\n",
              " 'ep fade black jimmi church w laura eisenhow restor balanc video',\n",
              " 'cognit true islam book review',\n",
              " 'donald trump win elect biggest miracl us polit histori',\n",
              " 'mind eat way fight bing new york time',\n",
              " 'major potenti impact corpor tax overhaul new york time',\n",
              " 'wonder glp like day elect',\n",
              " 'maker world smallest machin award nobel prize chemistri new york time',\n",
              " 'massiv anti trump protest union squar nyc live stream',\n",
              " 'review lion bring tear lost boy wipe dri googl new york time',\n",
              " 'u gener islam state chemic attack impact u forc',\n",
              " 'juri find oregon standoff defend guilti feder conspiraci gun charg',\n",
              " 'clinton campaign stun fbi reportedli reopen probe hillari clinton email',\n",
              " 'penc speak anti abort ralli new york time',\n",
              " 'berni sander say media trump gutless polit coward',\n",
              " 'make briquett daili wast',\n",
              " 'treason nyt vow reded report',\n",
              " 'dress like woman mean new york time',\n",
              " 'ella brennan still feed lead new orlean new york time',\n",
              " 'press asia agenda obama tread lightli human right new york time',\n",
              " 'democrat percent chanc retak senat new york time',\n",
              " 'judg spank transgend obsess obama lie redflag news',\n",
              " 'u diplomat urg strike assad syria new york time',\n",
              " 'franken call independ investig trump putin crush breitbart',\n",
              " 'louisiana simon bile u presidenti race tuesday even brief new york time',\n",
              " 'turkey threaten open migrant land passag europ row dutch',\n",
              " 'huma weiner dog hillari',\n",
              " 'colin kaepernick start black panther inspir youth camp wow',\n",
              " 'trump immigr polici explain new york time',\n",
              " 'mari tyler moor mourn dick van dyke star new york time',\n",
              " 'poison',\n",
              " 'trump fan ralli across nation support presid new york time',\n",
              " 'fox biz report help bash clinton ralli cover trump pack event day',\n",
              " 'fiction podcast worth listen new york time',\n",
              " 'mike birbiglia tip make small hollywood anywher new york time',\n",
              " 'invest strategist forecast collaps timelin last gasp econom cycl come',\n",
              " 'venezuela muzzl legislatur move closer one man rule new york time',\n",
              " 'whether john mccain mitt romney donald trump democrat alway run war women tactic destroy republican candid',\n",
              " 'breitbart news daili trump boom breitbart',\n",
              " 'white hous confirm gitmo transfer obama leav offic',\n",
              " 'poll voter heard democrat elect candid breitbart',\n",
              " 'migrant confront judgment day old deport order new york time',\n",
              " 'n u yale su retir plan fee new york time',\n",
              " 'technocraci real reason un want control internet',\n",
              " 'american driver regain appetit ga guzzler new york time',\n",
              " 'hillari clinton build million war chest doubl donald trump new york time',\n",
              " 'trump catch sick report snuck interview priceless respons',\n",
              " 'senat contact russian govern week',\n",
              " 'imag perfectli illustr struggl dakota access pipelin',\n",
              " 'washington state take refuge muslim rest countri take refuge muslim breitbart',\n",
              " 'ncaa big keep watch eye texa bathroom bill breitbart',\n",
              " 'massiv espn financi subscrib loss drag disney first quarter sale breitbart',\n",
              " 'megyn kelli contract set expir next year prime big show new york time',\n",
              " 'teacher suspend allow student hit trump pinata cinco de mayo',\n",
              " 'break trump express concern anthoni weiner illeg access classifi info month ago truthfe']"
            ]
          },
          "metadata": {},
          "execution_count": 19
        }
      ]
    },
    {
      "cell_type": "code",
      "metadata": {
        "id": "1x7ATmzxKZzt",
        "outputId": "b6bc84ed-e318-4174-9c60-5eccbaddf597",
        "colab": {
          "base_uri": "https://localhost:8080/"
        }
      },
      "source": [
        "onehot_repr = [one_hot(words, voc_size) for words in corpus]\n",
        "onehot_repr[:100]"
      ],
      "execution_count": 20,
      "outputs": [
        {
          "output_type": "execute_result",
          "data": {
            "text/plain": [
              "[[544, 4384, 712, 645, 3361, 824, 4460, 4611, 1604, 3127],\n",
              " [1429, 1290, 2191, 330, 3627, 2701, 798],\n",
              " [3364, 3830, 2334, 2193],\n",
              " [1991, 1054, 247, 1793, 3738, 2587],\n",
              " [3911, 3627, 4535, 3440, 4566, 4939, 3627, 4726, 660, 4409],\n",
              " [1049,\n",
              "  2,\n",
              "  167,\n",
              "  4679,\n",
              "  2320,\n",
              "  3034,\n",
              "  3917,\n",
              "  1461,\n",
              "  3341,\n",
              "  4401,\n",
              "  78,\n",
              "  1283,\n",
              "  2574,\n",
              "  1223,\n",
              "  798],\n",
              " [2121, 1128, 4796, 648, 1859, 2948, 3443, 1314, 3118, 4962, 1031],\n",
              " [2522, 4446, 557, 2090, 184, 1892, 3034, 2832, 3118, 4962, 1031],\n",
              " [4921, 4117, 1331, 3830, 4650, 2398, 1350, 4574, 3034, 3686],\n",
              " [2378, 2165, 1288, 2846, 199, 2353, 1215, 4182],\n",
              " [4681, 796, 1481, 1705, 2726, 2445, 580, 2864, 696, 2480, 2602],\n",
              " [1793, 2599, 3361, 2398, 3034, 184],\n",
              " [3668, 2392, 2725, 3224, 105, 185, 1390, 2827, 2429],\n",
              " [1886, 4152, 3600, 315, 779, 3751, 124, 3118, 4962, 1031],\n",
              " [3353, 2301, 2020, 2035, 513, 3118, 4962, 1031],\n",
              " [4811, 49, 1313, 2183, 2081, 4881, 1278, 4055, 4783, 3730],\n",
              " [1107, 378, 1290],\n",
              " [4846, 2802, 132, 3406, 3034, 779, 367, 798],\n",
              " [622, 3124, 2191, 1870, 1654, 446, 3623, 2839, 4939],\n",
              " [4588, 1472, 3034, 4409, 1220, 798],\n",
              " [4164, 1354, 1262, 1626, 1845, 3623, 3759, 3833, 1680, 3118, 4962, 1031],\n",
              " [4055, 323, 4203, 1053, 3305, 3897, 2664],\n",
              " [2574, 1426, 2595, 1613, 122, 2043, 4228, 4704, 3906, 339, 2271, 798],\n",
              " [1580, 1290, 2381, 1284, 1492, 3463, 4036, 811],\n",
              " [4105, 4605, 735, 2295, 4635, 765, 1870, 1346, 3125, 3118, 4962, 1031],\n",
              " [1290, 2191, 82, 2906, 3118, 4962, 1031],\n",
              " [4846, 2802, 132, 2861, 287, 669, 2295, 798],\n",
              " [2576, 1307, 808, 3124, 3351, 3118, 4962, 1031],\n",
              " [1293, 3021, 2078, 2501, 2672, 1718, 1290, 3280, 4764, 3118, 4962, 1031],\n",
              " [354, 4951, 3263, 4704, 3950, 4290, 3527, 1226, 941, 3118, 4962, 1031],\n",
              " [184, 4191, 3305, 392, 1671, 530, 3118, 4962, 1031],\n",
              " [2648, 4317, 3110, 1868, 3062],\n",
              " [4613, 4400, 4750, 4147],\n",
              " [3339, 4939, 4853, 3499, 1136, 246, 1914, 798],\n",
              " [1947, 4127, 1947, 4754, 4321, 1135, 3118, 4962, 1031],\n",
              " [4381, 2388, 816, 2193, 535, 1783, 4935, 798],\n",
              " [3447, 86, 3774, 1037],\n",
              " [2002, 1455, 1538, 4738, 3660, 3870, 3118, 4962, 1031],\n",
              " [3600, 1718, 413, 615, 4921, 1410, 188, 2288, 798],\n",
              " [1108, 2103, 1038, 3909, 892, 1031, 735, 3118, 4962, 1031],\n",
              " [2557, 803, 1786, 4497, 4921, 3939, 4388, 2780, 1223],\n",
              " [1596, 3476, 2876, 4430, 3495, 3118, 4771, 3118, 4962, 1031],\n",
              " [1696, 122, 4351, 357, 1641, 4239, 1007, 4544, 2660, 629, 477, 798],\n",
              " [3407, 1368, 1066],\n",
              " [2618, 1809, 2602, 1085, 1164, 1117, 519, 4836, 1596, 798],\n",
              " [3034, 4147, 3407, 3181, 1214, 1911],\n",
              " [4485, 3619, 3574, 2905, 2900, 3941, 4821, 78, 3401, 1227, 1223],\n",
              " [1070, 4205, 1426, 2761, 4291],\n",
              " [3406, 3034, 4796, 4147, 2205, 3307, 1793, 779, 2432],\n",
              " [4605, 4107, 2200, 3894, 486, 3118, 4962, 1031],\n",
              " [1886, 820, 2539, 4015, 2170, 3960, 3118, 4962, 1031],\n",
              " [4929, 3212, 3565, 311, 4147],\n",
              " [148, 4456, 2380, 2108, 1174, 3044, 3242, 4322, 3118, 4962, 1031],\n",
              " [1803, 4067, 3034, 970, 1560, 4559, 1101, 3002, 3520],\n",
              " [4291, 680, 2871, 2063, 3680, 35, 4958, 4154, 2935, 3118, 4962, 1031],\n",
              " [4750, 3316, 1426, 2595, 593, 346, 2539, 4750, 4766],\n",
              " [2921, 779, 4324, 4888, 1700, 4722, 2868, 886, 1136, 3614],\n",
              " [2191, 3417, 44, 1107, 2034, 1296, 1771, 1290, 2191, 115],\n",
              " [351, 3303, 4067, 4164, 811, 3118, 4962, 1031],\n",
              " [212, 4928, 4234, 185, 3034, 4943, 779, 1704],\n",
              " [3365, 3297, 3618, 4588],\n",
              " [96, 2267, 122, 4806, 2843],\n",
              " [2768, 3565, 3627, 3955, 3118, 4962, 1031],\n",
              " [851, 3891, 2648, 4180, 2222, 3118, 2332, 3118, 4962, 1031],\n",
              " [2557, 15, 3686, 4921, 4739, 3335, 3045, 188, 3118, 4962, 1031],\n",
              " [3339, 3889, 1684, 3077, 4147, 3118, 4962, 1031],\n",
              " [1881, 1037, 2490, 1031, 4921, 2022, 762, 2295],\n",
              " [4750, 1861, 1718, 4459, 2697, 3701, 3118, 4962, 1031],\n",
              " [4166, 862, 2459, 664, 3034, 2636, 2756, 798],\n",
              " [1598, 1840, 202, 4750, 3443, 1592, 4370, 645, 3816, 3118, 4962, 1031],\n",
              " [490, 1487, 4613, 357, 2973, 4484, 3350, 1146, 3670],\n",
              " [4252, 4352, 3808, 1290],\n",
              " [2401, 2738, 2656, 3574, 581, 2553, 1997, 4957, 1278],\n",
              " [3034, 4242, 4329, 874, 3118, 4962, 1031],\n",
              " [3163, 3885, 1394, 1154, 2333, 277, 4113, 1815, 3118, 4962, 1031],\n",
              " [4367],\n",
              " [3034, 3769, 811, 3799, 3759, 1613, 2780, 3118, 4962, 1031],\n",
              " [735, 2861, 2843, 83, 790, 2191, 811, 2907, 3034, 161, 3846, 311],\n",
              " [3440, 480, 3591, 2056, 3118, 4962, 1031],\n",
              " [621, 2157, 1801, 3365, 1928, 167, 1151, 3118, 4962, 1031],\n",
              " [69, 4251, 577, 848, 4276, 731, 3846, 2055, 1054, 2280],\n",
              " [180, 762, 1222, 4191, 3203, 4070, 4886, 1159, 3118, 4962, 1031],\n",
              " [851,\n",
              "  4279,\n",
              "  4889,\n",
              "  657,\n",
              "  3342,\n",
              "  3406,\n",
              "  3034,\n",
              "  3339,\n",
              "  2501,\n",
              "  985,\n",
              "  1749,\n",
              "  4878,\n",
              "  1121,\n",
              "  2447,\n",
              "  2026,\n",
              "  3868],\n",
              " [798, 2295, 3618, 3034, 4362, 798],\n",
              " [2670, 544, 1771, 1559, 638, 4921, 2968, 2471],\n",
              " [2710, 182, 477, 3339, 4147, 3868, 798],\n",
              " [357, 2134, 4072, 311, 2495, 4994, 1262, 3118, 4962, 1031],\n",
              " [4892, 4750, 3369, 2757, 2587, 557, 796, 3118, 4962, 1031],\n",
              " [940, 2846, 4795, 323, 2415, 4277, 727],\n",
              " [3623, 1117, 558, 2139, 302, 3846, 3118, 4962, 1031],\n",
              " [1290, 2191, 1616, 2183, 1749, 414, 677, 3406, 3034, 3118, 4962, 1031],\n",
              " [3034, 1575, 1458, 2843, 2203, 3629, 1614, 3602],\n",
              " [4147, 4962, 4681, 2725, 535],\n",
              " [2193, 1838, 746, 1474, 4055, 4783, 3730],\n",
              " [1979, 2595, 3833, 3896, 731, 491, 940, 3833, 3896, 731, 798],\n",
              " [182, 330, 3618, 643, 1728, 1293, 1283, 967, 798],\n",
              " [1803, 4415, 988, 3285, 1466, 344, 1156, 2528, 3269, 2941, 798],\n",
              " [3944, 967, 3737, 446, 4138, 531, 2797, 3981, 330, 2388, 3118, 4962, 1031],\n",
              " [462, 1454, 287, 747, 2710, 3034, 712, 4100, 3487, 2830],\n",
              " [3377, 3034, 3567, 1400, 3922, 4352, 660, 4783, 113, 838, 3517, 4271, 1885]]"
            ]
          },
          "metadata": {},
          "execution_count": 20
        }
      ]
    },
    {
      "cell_type": "code",
      "metadata": {
        "id": "C9l3LKFJN4XC",
        "outputId": "65aa3b3f-c21a-41a8-d9c4-fa8d1e52717c",
        "colab": {
          "base_uri": "https://localhost:8080/"
        }
      },
      "source": [
        "longest = max(onehot_repr, key = len)\n",
        "print(len(longest))"
      ],
      "execution_count": 21,
      "outputs": [
        {
          "output_type": "stream",
          "name": "stdout",
          "text": [
            "47\n"
          ]
        }
      ]
    },
    {
      "cell_type": "markdown",
      "metadata": {
        "id": "YsiQwp0-MWfN"
      },
      "source": [
        "Embedding Rpresentation"
      ]
    },
    {
      "cell_type": "code",
      "metadata": {
        "id": "5CJYi8LfKZ90",
        "outputId": "b4de8764-6e9e-4b2e-e051-0da8b8c3e018",
        "colab": {
          "base_uri": "https://localhost:8080/"
        }
      },
      "source": [
        "sent_lenght = 20\n",
        "embedded_docs = pad_sequences(onehot_repr, padding=\"pre\", maxlen= sent_lenght)\n",
        "print(embedded_docs)"
      ],
      "execution_count": 22,
      "outputs": [
        {
          "output_type": "stream",
          "name": "stdout",
          "text": [
            "[[   0    0    0 ... 4611 1604 3127]\n",
            " [   0    0    0 ... 3627 2701  798]\n",
            " [   0    0    0 ... 3830 2334 2193]\n",
            " ...\n",
            " [   0    0    0 ... 3118 4962 1031]\n",
            " [   0    0    0 ... 1662 1283 1820]\n",
            " [   0    0    0 ... 3618 2163 1841]]\n"
          ]
        }
      ]
    },
    {
      "cell_type": "code",
      "metadata": {
        "id": "yHNRSToDNCAQ",
        "outputId": "fba3ca63-472f-4f28-b341-666b78b73911",
        "colab": {
          "base_uri": "https://localhost:8080/"
        }
      },
      "source": [
        "embedded_docs[0]"
      ],
      "execution_count": 23,
      "outputs": [
        {
          "output_type": "execute_result",
          "data": {
            "text/plain": [
              "array([   0,    0,    0,    0,    0,    0,    0,    0,    0,    0,  544,\n",
              "       4384,  712,  645, 3361,  824, 4460, 4611, 1604, 3127], dtype=int32)"
            ]
          },
          "metadata": {},
          "execution_count": 23
        }
      ]
    },
    {
      "cell_type": "markdown",
      "source": [
        "Build The Model"
      ],
      "metadata": {
        "id": "zaW3LL2jUBzi"
      }
    },
    {
      "cell_type": "code",
      "metadata": {
        "id": "YTucSdl2MTIY",
        "outputId": "0f829e0c-5d4b-4704-d16d-1d42ec13b228",
        "colab": {
          "base_uri": "https://localhost:8080/"
        }
      },
      "source": [
        "from tensorflow.keras.layers import Dropout\n",
        "#Creating model\n",
        "embedding_vector_feature = 40\n",
        "model1 = Sequential()\n",
        "model1.add(Embedding(voc_size, embedding_vector_feature, input_length = sent_lenght))\n",
        "model1.add(Bidirectional(LSTM(100)))\n",
        "model1.add(Dense(1, activation= \"sigmoid\"))\n",
        "model1.compile(loss = \"binary_crossentropy\", optimizer = \"adam\", metrics = [\"accuracy\"])\n",
        "print(model1.summary())"
      ],
      "execution_count": 24,
      "outputs": [
        {
          "output_type": "stream",
          "name": "stdout",
          "text": [
            "Model: \"sequential\"\n",
            "_________________________________________________________________\n",
            " Layer (type)                Output Shape              Param #   \n",
            "=================================================================\n",
            " embedding (Embedding)       (None, 20, 40)            200000    \n",
            "                                                                 \n",
            " bidirectional (Bidirectiona  (None, 200)              112800    \n",
            " l)                                                              \n",
            "                                                                 \n",
            " dense (Dense)               (None, 1)                 201       \n",
            "                                                                 \n",
            "=================================================================\n",
            "Total params: 313,001\n",
            "Trainable params: 313,001\n",
            "Non-trainable params: 0\n",
            "_________________________________________________________________\n",
            "None\n"
          ]
        }
      ]
    },
    {
      "cell_type": "code",
      "metadata": {
        "id": "_N7JMnomMTTo",
        "outputId": "356fa930-efe4-47ea-db42-77b8bdd9d199",
        "colab": {
          "base_uri": "https://localhost:8080/"
        }
      },
      "source": [
        "len(embedded_docs), Y.shape"
      ],
      "execution_count": 25,
      "outputs": [
        {
          "output_type": "execute_result",
          "data": {
            "text/plain": [
              "(18285, (18285,))"
            ]
          },
          "metadata": {},
          "execution_count": 25
        }
      ]
    },
    {
      "cell_type": "code",
      "metadata": {
        "id": "mewBdBxHKapO"
      },
      "source": [
        "import numpy as np\n",
        "X_final = np.array(embedded_docs)\n",
        "Y_final = np.array(Y)"
      ],
      "execution_count": 26,
      "outputs": []
    },
    {
      "cell_type": "code",
      "metadata": {
        "id": "C4sU9JmJKayE",
        "outputId": "258196d1-4605-4976-a268-0e9fca9f989a",
        "colab": {
          "base_uri": "https://localhost:8080/"
        }
      },
      "source": [
        "X_final.shape, Y_final.shape"
      ],
      "execution_count": 27,
      "outputs": [
        {
          "output_type": "execute_result",
          "data": {
            "text/plain": [
              "((18285, 20), (18285,))"
            ]
          },
          "metadata": {},
          "execution_count": 27
        }
      ]
    },
    {
      "cell_type": "code",
      "metadata": {
        "id": "O450GyoTHAJ_"
      },
      "source": [
        "#Splitng the data into train and test.\n",
        "from sklearn.model_selection import train_test_split\n",
        "X_train, X_test, Y_train, Y_test = train_test_split(X_final, Y_final, test_size = 0.33, random_state = 42)"
      ],
      "execution_count": 28,
      "outputs": []
    },
    {
      "cell_type": "code",
      "source": [
        "X_train.shape, Y_train.shape"
      ],
      "metadata": {
        "colab": {
          "base_uri": "https://localhost:8080/"
        },
        "id": "JJV30fZNW93_",
        "outputId": "74790083-4d1e-4444-e0fe-a9d865300b91"
      },
      "execution_count": 29,
      "outputs": [
        {
          "output_type": "execute_result",
          "data": {
            "text/plain": [
              "((12250, 20), (12250,))"
            ]
          },
          "metadata": {},
          "execution_count": 29
        }
      ]
    },
    {
      "cell_type": "markdown",
      "metadata": {
        "id": "dnH3-RMHQj6C"
      },
      "source": [
        "Model Training"
      ]
    },
    {
      "cell_type": "code",
      "metadata": {
        "id": "u0Pb-DK9HAU_",
        "outputId": "38c06ec0-ffd5-4ca6-c416-1c6d88e64782",
        "colab": {
          "base_uri": "https://localhost:8080/"
        }
      },
      "source": [
        "#Training Time\n",
        "model1.fit(X_train, Y_train, validation_data = (X_test, Y_test), epochs = 10, batch_size = 64)"
      ],
      "execution_count": 30,
      "outputs": [
        {
          "output_type": "stream",
          "name": "stdout",
          "text": [
            "Epoch 1/10\n",
            "192/192 [==============================] - 15s 56ms/step - loss: 0.2913 - accuracy: 0.8660 - val_loss: 0.2026 - val_accuracy: 0.9183\n",
            "Epoch 2/10\n",
            "192/192 [==============================] - 10s 52ms/step - loss: 0.1344 - accuracy: 0.9495 - val_loss: 0.2080 - val_accuracy: 0.9170\n",
            "Epoch 3/10\n",
            "192/192 [==============================] - 10s 54ms/step - loss: 0.0973 - accuracy: 0.9642 - val_loss: 0.2281 - val_accuracy: 0.9145\n",
            "Epoch 4/10\n",
            "192/192 [==============================] - 10s 50ms/step - loss: 0.0711 - accuracy: 0.9758 - val_loss: 0.2828 - val_accuracy: 0.9077\n",
            "Epoch 5/10\n",
            "192/192 [==============================] - 10s 50ms/step - loss: 0.0569 - accuracy: 0.9808 - val_loss: 0.2983 - val_accuracy: 0.9114\n",
            "Epoch 6/10\n",
            "192/192 [==============================] - 10s 50ms/step - loss: 0.0365 - accuracy: 0.9891 - val_loss: 0.3098 - val_accuracy: 0.9036\n",
            "Epoch 7/10\n",
            "192/192 [==============================] - 10s 50ms/step - loss: 0.0355 - accuracy: 0.9873 - val_loss: 0.3749 - val_accuracy: 0.9064\n",
            "Epoch 8/10\n",
            "192/192 [==============================] - 10s 51ms/step - loss: 0.0223 - accuracy: 0.9931 - val_loss: 0.4676 - val_accuracy: 0.9042\n",
            "Epoch 9/10\n",
            "192/192 [==============================] - 10s 50ms/step - loss: 0.0152 - accuracy: 0.9952 - val_loss: 0.5169 - val_accuracy: 0.9064\n",
            "Epoch 10/10\n",
            "192/192 [==============================] - 10s 50ms/step - loss: 0.0092 - accuracy: 0.9970 - val_loss: 0.5067 - val_accuracy: 0.9041\n"
          ]
        },
        {
          "output_type": "execute_result",
          "data": {
            "text/plain": [
              "<keras.callbacks.History at 0x7f6d6fb1dad0>"
            ]
          },
          "metadata": {},
          "execution_count": 30
        }
      ]
    },
    {
      "cell_type": "markdown",
      "metadata": {
        "id": "-lupziBcU4Ke"
      },
      "source": [
        "Performence Metrics and Accuracy "
      ]
    },
    {
      "cell_type": "code",
      "metadata": {
        "id": "LaJpjLrDNJUs"
      },
      "source": [
        "\n",
        "Y_pred1 = (model1.predict(X_test) > 0.5).astype(\"int32\")"
      ],
      "execution_count": 31,
      "outputs": []
    },
    {
      "cell_type": "code",
      "source": [
        "Y_pred1"
      ],
      "metadata": {
        "colab": {
          "base_uri": "https://localhost:8080/"
        },
        "id": "0t3FVUjDcL5P",
        "outputId": "34692f82-8f29-45ce-c1a8-76b489a9b8bb"
      },
      "execution_count": 32,
      "outputs": [
        {
          "output_type": "execute_result",
          "data": {
            "text/plain": [
              "array([[1],\n",
              "       [0],\n",
              "       [0],\n",
              "       ...,\n",
              "       [0],\n",
              "       [1],\n",
              "       [1]], dtype=int32)"
            ]
          },
          "metadata": {},
          "execution_count": 32
        }
      ]
    },
    {
      "cell_type": "code",
      "source": [
        "len(Y_pred1)"
      ],
      "metadata": {
        "colab": {
          "base_uri": "https://localhost:8080/"
        },
        "id": "LAA4KIJjbTmO",
        "outputId": "b050c577-2424-4fdb-edcc-2815b0846845"
      },
      "execution_count": 33,
      "outputs": [
        {
          "output_type": "execute_result",
          "data": {
            "text/plain": [
              "6035"
            ]
          },
          "metadata": {},
          "execution_count": 33
        }
      ]
    },
    {
      "cell_type": "code",
      "metadata": {
        "id": "ImgnDrMrNJeL"
      },
      "source": [
        "from sklearn.metrics import confusion_matrix"
      ],
      "execution_count": 34,
      "outputs": []
    },
    {
      "cell_type": "code",
      "source": [
        "type(Y_test), type(Y_pred1)"
      ],
      "metadata": {
        "colab": {
          "base_uri": "https://localhost:8080/"
        },
        "id": "0Knih5Bva7Mz",
        "outputId": "40982c87-95dc-4409-ddb4-d71c170a7af5"
      },
      "execution_count": 35,
      "outputs": [
        {
          "output_type": "execute_result",
          "data": {
            "text/plain": [
              "(numpy.ndarray, numpy.ndarray)"
            ]
          },
          "metadata": {},
          "execution_count": 35
        }
      ]
    },
    {
      "cell_type": "code",
      "metadata": {
        "id": "LR3Pt7jrNJm6",
        "outputId": "d0b624ad-81b5-499d-939c-45197d78d49c",
        "colab": {
          "base_uri": "https://localhost:8080/"
        }
      },
      "source": [
        "confusion_matrix(Y_test, Y_pred1)"
      ],
      "execution_count": 36,
      "outputs": [
        {
          "output_type": "execute_result",
          "data": {
            "text/plain": [
              "array([[3085,  334],\n",
              "       [ 245, 2371]])"
            ]
          },
          "metadata": {},
          "execution_count": 36
        }
      ]
    },
    {
      "cell_type": "code",
      "metadata": {
        "id": "ll6gxBZ7XlZy",
        "outputId": "4c3a52ca-384e-412b-8e63-80ee391cf93a",
        "colab": {
          "base_uri": "https://localhost:8080/"
        }
      },
      "source": [
        "from sklearn.metrics import accuracy_score\n",
        "accuracy_score(Y_test, Y_pred1)"
      ],
      "execution_count": 37,
      "outputs": [
        {
          "output_type": "execute_result",
          "data": {
            "text/plain": [
              "0.904059652029826"
            ]
          },
          "metadata": {},
          "execution_count": 37
        }
      ]
    },
    {
      "cell_type": "code",
      "metadata": {
        "id": "aUqF4v-HXlno",
        "outputId": "bda4bccf-66f8-4454-91a7-04ccec584bb2",
        "colab": {
          "base_uri": "https://localhost:8080/"
        }
      },
      "source": [
        "from sklearn.metrics import  classification_report\n",
        "print(classification_report(Y_test, Y_pred1))"
      ],
      "execution_count": 38,
      "outputs": [
        {
          "output_type": "stream",
          "name": "stdout",
          "text": [
            "              precision    recall  f1-score   support\n",
            "\n",
            "           0       0.93      0.90      0.91      3419\n",
            "           1       0.88      0.91      0.89      2616\n",
            "\n",
            "    accuracy                           0.90      6035\n",
            "   macro avg       0.90      0.90      0.90      6035\n",
            "weighted avg       0.90      0.90      0.90      6035\n",
            "\n"
          ]
        }
      ]
    }
  ]
}